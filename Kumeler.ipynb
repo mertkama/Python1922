{
 "cells": [
  {
   "cell_type": "code",
   "execution_count": 1,
   "metadata": {},
   "outputs": [],
   "source": []
  },
  {
   "cell_type": "code",
   "execution_count": null,
   "metadata": {},
   "outputs": [],
   "source": []
  },
  {
   "cell_type": "code",
   "execution_count": 9,
   "metadata": {},
   "outputs": [
    {
     "name": "stdout",
     "output_type": "stream",
     "text": [
      "{11, 22}\n",
      "{11, 22}\n",
      "{66, 99, 77, 55, 88}\n"
     ]
    }
   ],
   "source": [
    "# KÜME FARKI\n",
    "\n",
    "kume={11,22,33,44}\n",
    "kume2={33,44,55,66,77,88,99}\n",
    "\n",
    "#1. yöntem\n",
    "kumeFarki =  kume - kume2\n",
    "print(kumeFarki)\n",
    "\n",
    "#2. yöntem\n",
    "kumeFarki = kume.difference(kume2)\n",
    "print(kumeFarki)\n",
    "\n",
    "kumeFarki =  kume2.difference(kume)\n",
    "print(kumeFarki)\n",
    "\n"
   ]
  },
  {
   "cell_type": "code",
   "execution_count": 10,
   "metadata": {},
   "outputs": [
    {
     "name": "stdout",
     "output_type": "stream",
     "text": [
      "{33, 44}\n"
     ]
    }
   ],
   "source": [
    "#Küme kesişim\n",
    "kume={11,22,33,44}\n",
    "kume2={33,44,55,66,77,88,99}\n",
    "\n",
    "#1. yöntem\n",
    "kumeKesisim = kume & kume2\n",
    "print(kumeKesisim)\n",
    "\n",
    "#2. yöntem\n",
    "kum\n"
   ]
  },
  {
   "cell_type": "code",
   "execution_count": 11,
   "metadata": {},
   "outputs": [
    {
     "name": "stdout",
     "output_type": "stream",
     "text": [
      "{33, 66, 99, 11, 44, 77, 22, 55, 88}\n"
     ]
    }
   ],
   "source": [
    "# KÜME BİRLEŞİM\n",
    "\n",
    "kume={11,22,33,44}\n",
    "kume2={33,44,55,66,77,88,99}\n",
    "\n",
    "kumeBirlesim =  kume.union(kume2)\n",
    "print(kumeBirlesim)"
   ]
  },
  {
   "cell_type": "code",
   "execution_count": 17,
   "metadata": {},
   "outputs": [
    {
     "name": "stdout",
     "output_type": "stream",
     "text": [
      "Bu sayı 1. kümede var:  5\n",
      "Bu sayı 1. kümede var:  2\n",
      "Bu sayı 2. kümede var:  9\n",
      "{2, 4, 5, 7, 13}\n",
      "{3, 6, 7, 9, 13}\n"
     ]
    }
   ],
   "source": [
    "#1 1-15 arasında 5'er adet sayı üretip 2 farklı kümeye kaydediniz.\n",
    "\n",
    "\n",
    "# Kebap  kebap-case-yontemi\n",
    "# Camel Case camelCase\n",
    "#FullCase FULLCASE\n",
    "#Pascal Case PascalCase\n",
    "#Snake Case snake_case\n",
    "\n",
    "from random import randint as randomGenerator \n",
    "\n",
    "kume1 = set()\n",
    "kume2 = set()\n",
    "\n",
    "for i in range(5):\n",
    "    while True:\n",
    "        sayi = randomGenerator(1,15)\n",
    "        if(sayi not in kume1):\n",
    "            kume1.add(sayi)\n",
    "            break\n",
    "        else:\n",
    "            print(\"Bu sayı 1. kümede var: \", sayi)\n",
    "    while True:\n",
    "        sayi =  randomGenerator(1,15)\n",
    "        if(sayi not in kume2):\n",
    "            kume2.add(sayi)\n",
    "            break\n",
    "        else:\n",
    "            print(\"Bu sayı 2. kümede var: \", sayi)\n",
    "            \n",
    "print(kume1)\n",
    "print(kume2)\n"
   ]
  },
  {
   "cell_type": "code",
   "execution_count": 18,
   "metadata": {},
   "outputs": [
    {
     "name": "stdout",
     "output_type": "stream",
     "text": [
      "{8, 9, 11, 13, 15}\n",
      "{1, 8, 9, 12, 14}\n"
     ]
    }
   ],
   "source": [
    "# ikinci olusturma yöntemi\n",
    "from random import randint as randomGenerator \n",
    "\n",
    "kume1 = set()\n",
    "kume2 = set()\n",
    "\n",
    "while len(kume1) <5:\n",
    "    kume1.add(randomGenerator(1,15))\n",
    "    \n",
    "\n",
    "while len(kume2) <5:\n",
    "    kume2.add(randomGenerator(1,15))\n",
    "\n",
    "print(kume1)\n",
    "print(kume2)\n",
    "\n",
    "\n"
   ]
  },
  {
   "cell_type": "code",
   "execution_count": 19,
   "metadata": {},
   "outputs": [
    {
     "name": "stdout",
     "output_type": "stream",
     "text": [
      "[72, 38, 6, 91, 98, 34, 6, 32, 97, 45]\n"
     ]
    }
   ],
   "source": [
    "# SORU: 1-100 arasında rastgele 10 sayı üretip bir listeye atayın\n",
    "\n",
    "\n",
    "from random import randint as sayici\n",
    "liste =  list()\n",
    "for i in range(10):\n",
    "    liste.append(sayici(1,100))\n",
    "print(liste)"
   ]
  },
  {
   "cell_type": "code",
   "execution_count": 21,
   "metadata": {},
   "outputs": [
    {
     "name": "stdout",
     "output_type": "stream",
     "text": [
      "[14, 54, 96, 98, 52, 42, 90, 75, 91, 38]\n",
      "14\n",
      "98\n"
     ]
    }
   ],
   "source": [
    "#Daha sonra bu listedeki en büyük ve en küçük elemanları hazır fonksiyon kullanmadan bulun. (liste ile çözün-max(),min(),sort(),reverse())\n",
    "from random import randint as sayici\n",
    "liste =  list()\n",
    "for i in range(10):\n",
    "    liste.append(sayici(1,100))\n",
    "\n",
    "print(liste)\n",
    "\n",
    "kucuk = 100\n",
    "buyuk = 0\n",
    "for i in liste:\n",
    "    if(i > buyuk):\n",
    "        buyuk = i\n",
    "    \n",
    "    if (i < kucuk):\n",
    "        kucuk = i\n",
    "\n",
    "print(kucuk)\n",
    "print(buyuk)"
   ]
  },
  {
   "cell_type": "code",
   "execution_count": null,
   "metadata": {},
   "outputs": [],
   "source": []
  }
 ],
 "metadata": {
  "kernelspec": {
   "display_name": "Python 3",
   "language": "python",
   "name": "python3"
  },
  "language_info": {
   "codemirror_mode": {
    "name": "ipython",
    "version": 3
   },
   "file_extension": ".py",
   "mimetype": "text/x-python",
   "name": "python",
   "nbconvert_exporter": "python",
   "pygments_lexer": "ipython3",
   "version": "3.8.5"
  }
 },
 "nbformat": 4,
 "nbformat_minor": 4
}
