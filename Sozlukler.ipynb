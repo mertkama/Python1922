{
 "cells": [
  {
   "cell_type": "code",
   "execution_count": 10,
   "metadata": {
    "scrolled": true
   },
   "outputs": [
    {
     "name": "stdout",
     "output_type": "stream",
     "text": [
      "{'country': 'Turkey', 'city': 'Istanbul', 3: 5, True: False}\n",
      "Istanbul\n",
      "<class 'dict'>\n",
      "5\n",
      "False\n",
      "Kitap\n",
      "Kitap\n",
      "Kitap\n"
     ]
    }
   ],
   "source": [
    "#Sözlükler (Dictionaries)\n",
    "\n",
    "datam = {\n",
    "    \"country\": \"Turkey\",\n",
    "    \"city\":\"Istanbul\",\n",
    "     3:5,\n",
    "    True: False\n",
    "}\n",
    "\n",
    "datam2 = {}\n",
    "datam3 = dict()\n",
    "\n",
    "print(datam)\n",
    "print(datam[\"city\"])\n",
    "print(type(datam))\n",
    "print(datam[3])\n",
    "print(datam[True])\n",
    "\n",
    "\n",
    "\n",
    "sozluk = {\n",
    "    \"book\": \"Kitap\",\n",
    "    \"pencil\": \"Kalem\",\n",
    "    \"noteBook\": \"Defter\",\n",
    "    \"eraser\": \"Silgi\"\n",
    "}\n",
    "\n",
    "print(sozluk[\"book\"])\n",
    "\n",
    "\n",
    "#Ögelere erişmek 1. yöntem\n",
    "print(sozluk[\"book\"])\n",
    "\n",
    "#Ögelere erişmek 2. yöntem\n",
    "print(sozluk.get(\"book\"))\n"
   ]
  },
  {
   "cell_type": "code",
   "execution_count": 12,
   "metadata": {},
   "outputs": [
    {
     "name": "stdout",
     "output_type": "stream",
     "text": [
      "Numarası bulunacak kişinin adını yazınızahmet\n",
      "ahmet adlı kişinin telefon numarası: 544 544 44 44\n"
     ]
    }
   ],
   "source": [
    "telefon_rehberi =  {\n",
    "    \"mehmet\": \"532 532 32 32\",\n",
    "    \"ahmet\": \"544 544 44 44\",\n",
    "    \"cem\": \"530 530 30 30\"\n",
    "}\n",
    "\n",
    "kisi = input(\"Numarası bulunacak kişinin adını yazınız\")\n",
    "cevap = \"{} adlı kişinin telefon numarası: {}\"\n",
    "print(cevap.format(kisi, telefon_rehberi[kisi.lower]))"
   ]
  },
  {
   "cell_type": "code",
   "execution_count": 21,
   "metadata": {},
   "outputs": [
    {
     "name": "stdout",
     "output_type": "stream",
     "text": [
      "Numarası bulunacak kişinin adını yazınızCEM\n",
      "cem adlı kişinin telefon numarası:  530 530 30 30\n"
     ]
    }
   ],
   "source": [
    "telefon_rehberi =  {\n",
    "    \"mehmet\": \"532 532 32 32\",\n",
    "    \"ahmet\": \"544 544 44 44\",\n",
    "    \"cem\": \"530 530 30 30\"\n",
    "}\n",
    "\n",
    "kisi = input(\"Numarası bulunacak kişinin adını yazınız\")\n",
    "kisi = str(kisi).lower()\n",
    "if kisi in telefon_rehberi:\n",
    "    cevap =  \"{} adlı kişinin telefon numarası:  {}\"\n",
    "    print(cevap.format(kisi, telefon_rehberi[kisi]))\n",
    "else:\n",
    "    print(\"Bu kişi rehberde bulunamadı !!!\")"
   ]
  },
  {
   "cell_type": "code",
   "execution_count": 31,
   "metadata": {},
   "outputs": [
    {
     "name": "stdout",
     "output_type": "stream",
     "text": [
      "dict_keys(['ad', 'soyad', 'dogumTarihi', 'unvan'])\n",
      "dict_values(['Mehmet Nuri', 'ÖZTÜRK', '20.11.1993', 'Sn Software Engineer'])\n",
      "dict_items([('ad', 'Mehmet Nuri'), ('soyad', 'ÖZTÜRK'), ('dogumTarihi', '20.11.1993'), ('unvan', 'Sn Software Engineer')])\n",
      "4\n",
      "False\n",
      "True\n"
     ]
    }
   ],
   "source": [
    "sozluk = {\n",
    "    \"ad\"         : \"Mehmet Nuri\",\n",
    "    \"soyad\"      : \"ÖZTÜRK\",\n",
    "    \"dogumTarihi\": \"20.11.1993\",\n",
    "    \"unvan\"      : \"Sn Software Engineer\"\n",
    "}\n",
    "\n",
    "print(sozluk.keys())\n",
    "print(sozluk.values())\n",
    "print(sozluk.items())\n",
    "print(len(sozluk))\n",
    "print(\"asddd\" in sozluk )\n",
    "\n",
    "print(\"ad\" in sozluk )\n",
    "\n"
   ]
  },
  {
   "cell_type": "code",
   "execution_count": 35,
   "metadata": {
    "scrolled": true
   },
   "outputs": [
    {
     "name": "stdout",
     "output_type": "stream",
     "text": [
      "ad Mehmet Nuri\n",
      "soyad ÖZTÜRK\n",
      "dogumTarihi 20.11.1993\n",
      "unvan Sn Software Engineer\n"
     ]
    }
   ],
   "source": [
    "#Sözlüğün anahtar ve değerlerine (keys, values) ulaşma\n",
    "sozluk = {\n",
    "    \"ad\"         : \"Mehmet Nuri\",\n",
    "    \"soyad\"      : \"ÖZTÜRK\",\n",
    "    \"dogumTarihi\": \"20.11.1993\",\n",
    "    \"unvan\"      : \"Sn Software Engineer\"\n",
    "}\n",
    "\n",
    "for k,v in sozluk.items():\n",
    "    print(\"Key {} value {} \" .format(k,v))\n",
    "    "
   ]
  },
  {
   "cell_type": "code",
   "execution_count": 37,
   "metadata": {},
   "outputs": [
    {
     "name": "stdout",
     "output_type": "stream",
     "text": [
      "ad\n",
      "soyad\n",
      "dogumTarihi\n",
      "unvan\n"
     ]
    }
   ],
   "source": [
    "#Sözlüğün anahtarlarına(keys) ulaşma\n",
    "sozluk = {\n",
    "    \"ad\"         : \"Mehmet Nuri\",\n",
    "    \"soyad\"      : \"ÖZTÜRK\",\n",
    "    \"dogumTarihi\": \"20.11.1993\",\n",
    "    \"unvan\"      : \"Sn Software Engineer\"\n",
    "}\n",
    "\n",
    "for k in sozluk.keys():\n",
    "    print(k)\n",
    "    "
   ]
  },
  {
   "cell_type": "code",
   "execution_count": 38,
   "metadata": {},
   "outputs": [
    {
     "name": "stdout",
     "output_type": "stream",
     "text": [
      "Mehmet Nuri\n",
      "ÖZTÜRK\n",
      "20.11.1993\n",
      "Sn Software Engineer\n"
     ]
    }
   ],
   "source": [
    "#Sözlüğün değerlerine ulaşma\n",
    "sozluk = {\n",
    "    \"ad\"         : \"Mehmet Nuri\",\n",
    "    \"soyad\"      : \"ÖZTÜRK\",\n",
    "    \"dogumTarihi\": \"20.11.1993\",\n",
    "    \"unvan\"      : \"Sn Software Engineer\"\n",
    "}\n",
    "\n",
    "for k in sozluk.values():\n",
    "    print(k)\n",
    "    "
   ]
  },
  {
   "cell_type": "code",
   "execution_count": 43,
   "metadata": {},
   "outputs": [
    {
     "name": "stdout",
     "output_type": "stream",
     "text": [
      "{'ad': 'Selim', 'soyad': 'Kaçar'}\n",
      "{'soyad': 'Kaçar', 'ad': 'Selim'}\n",
      "{'soyad': 'Varan', 'ad': 'Selim'}\n",
      "{'soy': 'Kaçar', 'ad': 'Selim', 'yas': 30}\n",
      "{'soyad': 'Varan', 'ad': 'Selim'}\n",
      "{'soyad': 'Varan', 'ad': 'Selim'}\n"
     ]
    }
   ],
   "source": [
    "\n",
    "#Sözlük Güncelleme\n",
    "s1={\"ad\":\"Selim\",\"soyad\":\"Kaçar\"}\n",
    "s2={\"soyad\":\"Kaçar\",\"ad\":\"Selim\"}\n",
    "s3={\"soyad\":\"Varan\",\"ad\":\"Selim\"}\n",
    "s4={\"soy\":\"Kaçar\",\"ad\":\"Selim\",\"yas\":30}\n",
    "print(s1)\n",
    "print(s2)\n",
    "print(s3)\n",
    "print(s4)\n",
    "s2.update(s3)\n",
    "print(s3)\n",
    "print(s2)\n"
   ]
  },
  {
   "cell_type": "code",
   "execution_count": 58,
   "metadata": {},
   "outputs": [
    {
     "ename": "NameError",
     "evalue": "name 's1' is not defined",
     "output_type": "error",
     "traceback": [
      "\u001b[1;31m---------------------------------------------------------------------------\u001b[0m",
      "\u001b[1;31mNameError\u001b[0m                                 Traceback (most recent call last)",
      "\u001b[1;32m<ipython-input-58-07d2fd9153af>\u001b[0m in \u001b[0;36m<module>\u001b[1;34m\u001b[0m\n\u001b[0;32m      3\u001b[0m \u001b[0ms1\u001b[0m\u001b[1;33m[\u001b[0m\u001b[1;34m\"ad\"\u001b[0m\u001b[1;33m]\u001b[0m \u001b[1;33m=\u001b[0m \u001b[1;34m\"Mehmet\"\u001b[0m\u001b[1;33m\u001b[0m\u001b[1;33m\u001b[0m\u001b[0m\n\u001b[0;32m      4\u001b[0m \u001b[1;32mdel\u001b[0m \u001b[0ms1\u001b[0m\u001b[1;33m\u001b[0m\u001b[1;33m\u001b[0m\u001b[0m\n\u001b[1;32m----> 5\u001b[1;33m \u001b[0mprint\u001b[0m\u001b[1;33m(\u001b[0m\u001b[0ms1\u001b[0m\u001b[1;33m)\u001b[0m\u001b[1;33m\u001b[0m\u001b[1;33m\u001b[0m\u001b[0m\n\u001b[0m",
      "\u001b[1;31mNameError\u001b[0m: name 's1' is not defined"
     ]
    }
   ],
   "source": [
    "#Sözlük Silme\n",
    "s1={\"ad\":\"Selim\",\"soyad\":\"Kaçar\"}\n",
    "s1[\"ad\"] = \"Mehmet\"\n",
    "del s1\n",
    "print(s1)"
   ]
  },
  {
   "cell_type": "code",
   "execution_count": 67,
   "metadata": {},
   "outputs": [
    {
     "name": "stdout",
     "output_type": "stream",
     "text": [
      "{'ad': 'Selim', 'soyad': 'Kaçar'}\n",
      "{'soyad': 'Kaçar'}\n",
      "{}\n"
     ]
    }
   ],
   "source": [
    "#Sözlük içinde bir anahtarı(key) silme\n",
    "s1={\"ad\":\"Selim\",\"soyad\":\"Kaçar\"}\n",
    "# del s1\n",
    "print(s1)\n",
    "s1.pop(\"ad\")\n",
    "print(s1)\n",
    "s1.popitem()\n",
    "print(s1)"
   ]
  },
  {
   "cell_type": "code",
   "execution_count": 63,
   "metadata": {},
   "outputs": [
    {
     "name": "stdout",
     "output_type": "stream",
     "text": [
      "{'soyad': 'Kaçar', 'ad': 'Selim'}\n"
     ]
    }
   ],
   "source": [
    "#Sözlüklerin kopyalanması\n",
    "s1={\"ad\":\"Selim\",\"soyad\":\"Kaçar\"}\n",
    "s2={\"soyad\":\"Kaçar\",\"ad\":\"Selim\"}\n",
    "s3=s2.copy()\n",
    "print(s3)"
   ]
  },
  {
   "cell_type": "code",
   "execution_count": 73,
   "metadata": {},
   "outputs": [
    {
     "name": "stdout",
     "output_type": "stream",
     "text": [
      "{'ad': 'Selim'}\n",
      "{}\n"
     ]
    }
   ],
   "source": [
    "#Sözlüğü temizleme\n",
    "s1={\"ad\":\"Selim\",\"soyad\":\"Kaçar\"}\n",
    "\n",
    "#Rastgele eleman çıkarma\n",
    "s1.popitem()\n",
    "print(s1)\n",
    "\n",
    "#2. yöntem\n",
    "s2={\"ad\":\"Selim\",\"soyad\":\"Kaçar\"}\n",
    "s2.clear()\n",
    "print(s2)\n",
    "\n",
    "\n",
    "#Sözlüğü Tamamen Silme\n",
    "del s1\n",
    "del s2"
   ]
  },
  {
   "cell_type": "code",
   "execution_count": 76,
   "metadata": {},
   "outputs": [
    {
     "name": "stdout",
     "output_type": "stream",
     "text": [
      "Ankara\n",
      "Ankara\n"
     ]
    }
   ],
   "source": [
    "#İç içe sözlükler\n",
    "sozluk={\n",
    "    \"sehir1\": {\n",
    "        \"sehir\": \"Ankara\",\n",
    "        \"plaka\": \"06\"\n",
    "    },\n",
    "    \"sehir2\":{\n",
    "        \"sehir\": \"Istanbul\",\n",
    "        \"plaka\": \"34\"\n",
    "    },\n",
    "    \"sehir3\": {\n",
    "        \"sehir\": \"Malatya\",\n",
    "        \"plaka\": \"44\"\n",
    "    }\n",
    "    \n",
    "}\n",
    "\n",
    "sehir1={\"sehir\": \"Ankara\", \"plaka\": \"06\"}\n",
    "sehir2={\"sehir\": \"Istanbul\",\"plaka\": \"34\"}\n",
    "sehir3={\"sehir\": \"Malatya\",\"plaka\": \"44\"}\n",
    "\n",
    "yenisehirler = {\n",
    "    \"sehir1\": sehir1,\n",
    "    \"sehir2\": sehir2,\n",
    "    \"sehir3\": sehir3\n",
    "}\n",
    "\n",
    "print(yenisehirler[\"sehir1\"][\"sehir\"])\n",
    "print(sozluk[\"sehir1\"][\"sehir\"])"
   ]
  },
  {
   "cell_type": "code",
   "execution_count": 77,
   "metadata": {},
   "outputs": [
    {
     "name": "stdout",
     "output_type": "stream",
     "text": [
      "AdınızMehmet Nuri\n",
      "SoyadınızÖztürk\n",
      "Yaşınız28\n",
      "CinsiyetinizErkek\n",
      "Mehmet Nuri Öztürk\n"
     ]
    }
   ],
   "source": [
    "# SORU: Kullanıcıdan alınan ad,soyad,yas,cinsiyet bilgilerini Personel isimli bir sözlükte saklayın ve ad soyad bilgisini sözlükten alarak ekrana yazdırınız.\n",
    "Person = {}\n",
    "# person != Person\n",
    "\n",
    "Person[\"name\"] =  input(\"Adınız \")\n",
    "Person[\"lastName\"] = input(\"Soyadınız \")\n",
    "Person[\"age\"] = input(\"Yaşınız \")\n",
    "Person[\"gender\"] = input(\"Cinsiyetiniz\")\n",
    "\n",
    "print(Person[\"name\"], Person[\"lastName\"])"
   ]
  },
  {
   "cell_type": "code",
   "execution_count": 79,
   "metadata": {},
   "outputs": [
    {
     "name": "stdout",
     "output_type": "stream",
     "text": [
      "İnsan kaynakları personel ad soyadAhmet Yıldırım\n",
      "Bilgi işlem personel ad soyadKemal Dursun\n",
      "Muhasebe personel ad soyadAyşen Gür\n",
      "İnsan Kaynakları- Bilgi İşlem-Muhasebe bölüm adı giriniz:İnsan Kaynakları\n",
      "Ahmet Yıldırım\n"
     ]
    }
   ],
   "source": [
    "#SORU: Bir firmanın İnsan kaynakları,Bilgi İşlem ve\n",
    "#Muhasebe departmanlarının çalışan listelerini yöneticiden \n",
    "#isteyerek bir dict atınız\n",
    "# ve ekrana istenilen bölümdeki çalışanları listeyiniz.\n",
    "\n",
    "\n",
    "IK = list()\n",
    "IT = list()\n",
    "FN = list()\n",
    "company = dict()\n",
    "\n",
    "for i in range(1):\n",
    "    IK.append(input(\"İnsan kaynakları personel ad soyad\"))\n",
    "    IT.append(input(\"Bilgi işlem personel ad soyad\"))\n",
    "    FN.append(input(\"Muhasebe personel ad soyad\"))\n",
    "    \n",
    "company[\"İnsan Kaynakları\"] = IK\n",
    "company[\"Bilgi İşlem\"] =  IT\n",
    "company[\"Muhasebe\"] = FN\n",
    "\n",
    "choise = input(\"İnsan Kaynakları- Bilgi İşlem-Muhasebe bölüm adı giriniz:\")\n",
    "\n",
    "for i in company[choise]:\n",
    "    print(i)"
   ]
  },
  {
   "cell_type": "code",
   "execution_count": 82,
   "metadata": {},
   "outputs": [
    {
     "name": "stdout",
     "output_type": "stream",
     "text": [
      "Lütfen metninizi giriniz :fıstıkçı şahap öğlen üzüm yedi ve ömere vermedi\n",
      "i\n",
      "i\n",
      "c\n",
      "i\n",
      "s\n",
      "o\n",
      "g\n",
      "u\n",
      "u\n",
      "o\n",
      "fistikci sahap oglen uzum yedi ve omere vermedi\n"
     ]
    }
   ],
   "source": [
    "yasakliKarakterler = ['ı', 'ş', 'ç', 'ğ', 'ö', 'ü']\n",
    "uygunKarakterler = ['i','s','c', 'g', 'o', 'u']\n",
    "\n",
    "metin = input(\"Lütfen metninizi giriniz :\")\n",
    "\n",
    "for i in metin:\n",
    "    if i in yasakliKarakterler:\n",
    "        indx = yasakliKarakterler.index(i)\n",
    "        krkter = uygunKarakterler[indx]\n",
    "        print(krkter)\n",
    "        metin = metin.replace(i,krkter)\n",
    "\n",
    "print(metin)"
   ]
  },
  {
   "cell_type": "code",
   "execution_count": null,
   "metadata": {},
   "outputs": [],
   "source": [
    "import time\n",
    "sozluk = {\"arastirma\": \"survey\", \"ummak\": \"expect\", \"dikkate almak\": \"consider\"}\n",
    "\n",
    "while True:\n",
    "    print(\"***************************************TR-ENG Sözlük***************************************\")\n",
    "    secenek = input(\"\"\"\n",
    "            1- Arama\n",
    "            2- Çıkarma\n",
    "            3- Listeleme\n",
    "            4- Çıkış\n",
    "            Seçiniz:\"\"\")\n",
    "\n",
    "    if secenek == \"1\":\n",
    "        kelime = input(\"Aramak istediğiniz kelimeyi giriniz: \")\n",
    "        if kelime in sozluk:\n",
    "            print(sozluk[kelime])\n",
    "        else:\n",
    "            print(\"Sözlükte bu kelime bulunamadı! Uygulamayı geliştirmek ister misiniz ?\")\n",
    "            cevap = input(\"E/H\").upper()\n",
    "\n",
    "            if cevap == \"E\":\n",
    "                kelimeEng = input(kelime + \" kelimesinin İngilizce karşılığını yazınız: \")\n",
    "                sozluk[kelime] = kelimeEng\n",
    "            else:\n",
    "                print(\"Teşekkürler\")\n",
    "    elif secenek == \"2\":\n",
    "        silenecekKelime =  input(\"Lütfen silinecek kelimeyi yazınız :\")\n",
    "        if silenecekKelime in sozluk:\n",
    "            del sozluk[silenecekKelime]\n",
    "        else:\n",
    "            print(\"Böyle bir değer sözlükte bulunamadı\")\n",
    "    elif secenek == \"3\":\n",
    "        print(sozluk)\n",
    "    elif secenek == \"4\":\n",
    "        print(\"Çıkılıyor...\")\n",
    "        break\n",
    "    else:\n",
    "        print(\"Hatalı tuşlama\")\n",
    "        time.sleep(3)"
   ]
  }
 ],
 "metadata": {
  "kernelspec": {
   "display_name": "Python 3",
   "language": "python",
   "name": "python3"
  },
  "language_info": {
   "codemirror_mode": {
    "name": "ipython",
    "version": 3
   },
   "file_extension": ".py",
   "mimetype": "text/x-python",
   "name": "python",
   "nbconvert_exporter": "python",
   "pygments_lexer": "ipython3",
   "version": "3.8.5"
  }
 },
 "nbformat": 4,
 "nbformat_minor": 4
}
